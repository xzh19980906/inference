{
 "cells": [
  {
   "cell_type": "markdown",
   "id": "07aba147-c9d6-406a-afc5-67b66595d094",
   "metadata": {},
   "source": [
    "Almost everything in the inference study can be considered as doing hypothesis tests. And in most of the cases, any hypothesis $H\\in\\mathcal{H}$ can be described as the subset of the full parameter space. \n",
    "\n",
    "When doing a profiled likelihood test, we factorize the full parameter space as $\\Theta\\times\\Phi$, where $\\Theta$ is the space of interesting parameters and $\\Phi$ is the space of nuisance parameters which will be always profiled out. Rigorously, for a given interesting parameter $\\theta\\in\\Theta$, the corresponding hypothesis should be written as $H_{\\{\\theta\\}\\times\\Phi}$ but I will usually be lazy to just call it $H_\\theta$. And the test statistic we usually use is defined as \n",
    "\n",
    "$$t(X|\\theta) = -2\\log\\frac{L(X|\\theta,\\hat{\\hat{\\phi}})}{L(X|\\hat{\\theta}, \\hat{\\phi})}$$\n",
    "\n",
    "where $\\hat{\\theta}$, $\\hat{\\phi}$ maximize the likelihood $L$ given observation $X$, and $\\hat{\\hat{\\phi}}(\\theta) = \\arg\\max_{\\phi\\in\\Phi} L(X|\\theta, \\phi)$. And Wilk's theorem shows that when the sample size is large, $t$ obeys a chi-square distribution asymptotically with degrees of freedom $\\dim{\\Theta} $.\n",
    "\n",
    "However this asymptotic condition does not always hold. Following Neyman's construction, the key problem is \"if $\\theta, \\phi$ are the true parameters, what is the distribution of $t$\", practically meaning that given $\\theta, \\phi$ we should simulate $X$ from $H_{\\theta,\\phi}$ many times and calculate $t(X|\\theta)$ to get the distribution. To be clear, only two functions are the keys in the package:\n",
    "\n",
    "  1. simulate $X$ from $H_{\\theta,\\phi}$, done by `likelihood.simulate(param)`\n",
    "  2. calculate $t(X|\\theta)$, done by `likelihood.chi2(param, param_profiled_guess)`\n",
    "\n",
    "Now I will show a simple example."
   ]
  },
  {
   "cell_type": "code",
   "execution_count": 1,
   "id": "27217b31-f7eb-486d-a977-607d1511dab6",
   "metadata": {},
   "outputs": [],
   "source": [
    "import numpy as np\n",
    "import matplotlib.pyplot as plt\n",
    "import aptinf"
   ]
  },
  {
   "cell_type": "markdown",
   "id": "b2c6ad4b-09a4-4417-93ef-194494af29e2",
   "metadata": {},
   "source": [
    "First before anything, we set the `url_base` to be the prefix of the path of any used templates."
   ]
  },
  {
   "cell_type": "code",
   "execution_count": 2,
   "id": "982b9305-f3dd-4868-913b-15a6c97612d7",
   "metadata": {},
   "outputs": [],
   "source": [
    "aptinf.set_global_config({'url_base': '/home/zihaoxu/template_v14_SR0/'})"
   ]
  },
  {
   "cell_type": "markdown",
   "id": "6f5ac562-557d-4fa3-97c0-082a06a026e1",
   "metadata": {},
   "source": [
    "# Define a likelihood"
   ]
  },
  {
   "cell_type": "markdown",
   "id": "23227a7e-102b-427b-9ce7-ae61b9aaae93",
   "metadata": {},
   "source": [
    "In this example, we consider a 50-GeV WIMP search with ER and NR background, and the likelihood is defined by\n",
    "\n",
    "$$\\begin{aligned}\n",
    "L(\\mathrm{data}|\\lambda_{\\mathrm{ER}}, \\lambda_{\\mathrm{NR}}, \\lambda_{\\mathrm{WIMP}}) &= \\mathrm{Poiss}(N|\\lambda_{\\mathrm{tot}})\\times\\prod_{i=0}^N\\left(\\sum_{s\\in\\{\\mathrm{ER, NR, WIMP}\\}}\\frac{\\lambda_s}{\\lambda_{\\mathrm{tot}}}f_{s,i}\\right)\\times\\mathrm{Gauss}(\\lambda_{\\mathrm{NR}}|\\mu_{\\mathrm{NR}}, \\sigma_{\\mathrm{NR}})\n",
    "\\end{aligned}$$\n",
    "\n",
    "The definition is already done in `aptinf.demo.testLikelihood` and can be viewed by `likelihood.view()`"
   ]
  },
  {
   "cell_type": "code",
   "execution_count": 3,
   "id": "e630e8f7-d649-4d87-bf2c-e2a0dd3f06d9",
   "metadata": {},
   "outputs": [
    {
     "name": "stdout",
     "output_type": "stream",
     "text": [
      "Poisson(\n",
      "\tn = len(data)\n",
      "\tlam = 10**lg_nr_rate + 10**lg_er_rate + wimp.norm * 10**lg_sig_mul\n",
      ")\n",
      "MultiSourceUnbinnedPDF(\n",
      "\tevents = data\n",
      "\ttemplates = (nr, er, wimp)\n",
      "\tweights = (10**lg_nr_rate, 10**lg_er_rate, wimp.norm * 10**lg_sig_mul)\n",
      ")\n",
      "Gaussian(\n",
      "\tx = 10**lg_nr_rate\n",
      "\tmu = nr.norm\n",
      "\tstd = nr.norm * nr_rate_relative_std\n",
      ")\n"
     ]
    }
   ],
   "source": [
    "likelihood = aptinf.demo.testLikelihood()\n",
    "likelihood.view()"
   ]
  },
  {
   "cell_type": "markdown",
   "id": "eb324506-c21e-4b27-875f-1b8fdfe4de5f",
   "metadata": {},
   "source": [
    "Every time we want to calculate the likelihood, we have to feed the following things. Here `'data'` is also in the `likelihood.param_needed` due to some technical problem but don't confuse yourself."
   ]
  },
  {
   "cell_type": "code",
   "execution_count": 4,
   "id": "82562eba-b956-48f4-90f1-27697d4bf439",
   "metadata": {},
   "outputs": [
    {
     "data": {
      "text/plain": [
       "{'data', 'lg_er_rate', 'lg_nr_rate', 'lg_sig_mul'}"
      ]
     },
     "execution_count": 4,
     "metadata": {},
     "output_type": "execute_result"
    }
   ],
   "source": [
    "likelihood.param_needed"
   ]
  },
  {
   "cell_type": "markdown",
   "id": "da73667a-4e76-4372-8dec-e30e72043dad",
   "metadata": {},
   "source": [
    "# Simulate data"
   ]
  },
  {
   "cell_type": "markdown",
   "id": "0607a820-6c09-41df-84ef-996b4d718cef",
   "metadata": {},
   "source": [
    "To simulate data, we need to input all parameters."
   ]
  },
  {
   "cell_type": "code",
   "execution_count": 5,
   "id": "139a7b4f-4f6d-440c-9016-33b1c907fd12",
   "metadata": {},
   "outputs": [],
   "source": [
    "likelihood.set_data_from_toymc({'lg_er_rate': 2,\n",
    "                                'lg_nr_rate': np.log10(likelihood.nr.norm),\n",
    "                                'lg_sig_mul': -10})"
   ]
  },
  {
   "cell_type": "markdown",
   "id": "eea55864-a09b-43e9-ab23-ec0b650ce4fd",
   "metadata": {},
   "source": [
    "Then we calculate the max log likelihood. It's stored inside the class since it's slow to compute could be used many times. We suggest to be careful with the initial guess. If the likelihood is very flat near the initial guess, then the optimizer might NOT give the correct function value."
   ]
  },
  {
   "cell_type": "code",
   "execution_count": 6,
   "id": "cd12378f-2084-442a-9e17-1981830c6d86",
   "metadata": {},
   "outputs": [],
   "source": [
    "likelihood.set_max_loglikelihood(param_guess={'lg_er_rate': 2,\n",
    "                                              'lg_nr_rate': np.log10(likelihood.nr.norm),\n",
    "                                              'lg_sig_mul': 0})"
   ]
  },
  {
   "cell_type": "markdown",
   "id": "dd77db49-bb68-44a1-97b7-5267b7c51536",
   "metadata": {},
   "source": [
    "# Calculate $t$"
   ]
  },
  {
   "cell_type": "markdown",
   "id": "b1b3de92-24a0-47d6-8514-a27f0dac568d",
   "metadata": {},
   "source": [
    "The profiled log likelihood ratio is called by `likelihood.chi2(param, param_profiled_guess)`."
   ]
  },
  {
   "cell_type": "code",
   "execution_count": 7,
   "id": "13070be6-64de-441a-a0d1-1bd049b78b2f",
   "metadata": {},
   "outputs": [],
   "source": [
    "def t(lg_sig_mul):\n",
    "    return likelihood.chi2({'lg_sig_mul': lg_sig_mul},\n",
    "                           {'lg_er_rate': 2, 'lg_nr_rate': 0})"
   ]
  },
  {
   "cell_type": "code",
   "execution_count": 8,
   "id": "cdc7f521-4a44-400b-8be5-9f4bc3fe8071",
   "metadata": {},
   "outputs": [
    {
     "data": {
      "image/png": "[encoded data removed]",
      "text/plain": [
       "<Figure size 640x480 with 1 Axes>"
      ]
     },
     "metadata": {},
     "output_type": "display_data"
    }
   ],
   "source": [
    "x = np.linspace(-4, -2, 100)\n",
    "y = [t(xx) for xx in x]\n",
    "\n",
    "plt.plot(10**x, y)\n",
    "plt.xscale('log')\n",
    "plt.xlim(1e-4, 1e-2)\n",
    "plt.ylim(0, None)\n",
    "plt.xlabel('WIMP rate multiplier')\n",
    "plt.ylabel('Profiled log likelihood ratio')\n",
    "plt.show()"
   ]
  },
  {
   "cell_type": "code",
   "execution_count": null,
   "id": "d2c0033b-08e6-4187-983e-9bc498f29c00",
   "metadata": {},
   "outputs": [],
   "source": []
  }
 ],
 "metadata": {
  "kernelspec": {
   "display_name": "Python [conda env:XENONnT_2023.05.2]",
   "language": "python",
   "name": "conda-env-XENONnT_2023.05.2-py"
  },
  "language_info": {
   "codemirror_mode": {
    "name": "ipython",
    "version": 3
   },
   "file_extension": ".py",
   "mimetype": "text/x-python",
   "name": "python",
   "nbconvert_exporter": "python",
   "pygments_lexer": "ipython3",
   "version": "3.8.16"
  }
 },
 "nbformat": 4,
 "nbformat_minor": 5
}
