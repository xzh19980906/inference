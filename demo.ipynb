{
 "cells": [
  {
   "cell_type": "markdown",
   "id": "07aba147-c9d6-406a-afc5-67b66595d094",
   "metadata": {},
   "source": [
    "Almost everything in the inference study can be considered as doing hypothesis tests. And in most of the cases, any hypothesis $H\\in\\mathcal{H}$ can be described as the subset of the full parameter space. \n",
    "\n",
    "When doing a profiled likelihood test, we factorize the full parameter space as $\\Theta\\times\\Phi$, where $\\Theta$ is the space of interesting parameters and $\\Phi$ is the space of nuisance parameters which will be always profiled out. Rigorously, for a given interesting parameter $\\theta\\in\\Theta$, the corresponding hypothesis should be written as $H_{\\{\\theta\\}\\times\\Phi}$ but I will usually be lazy to just call it $H_\\theta$. And the test statistic we usually use is defined as \n",
    "\n",
    "$$t(X|\\theta) = -2\\log\\frac{L(X|\\theta,\\hat{\\hat{\\phi}})}{L(X|\\hat{\\theta}, \\hat{\\phi})}$$\n",
    "\n",
    "where $\\hat{\\theta}$, $\\hat{\\phi}$ maximize the likelihood $L$ given observation $X$, and $\\hat{\\hat{\\phi}}(\\theta) = \\arg\\max_{\\phi\\in\\Phi} L(X|\\theta, \\phi)$. And Wilk's theorem shows that when the sample size is large, $t$ obeys a chi-square distribution asymptotically with degrees of freedom $\\dim{\\Theta} $.\n",
    "\n",
    "However this asymptotic condition does not always hold. Following Neyman's construction, the key problem is \"if $\\theta, \\phi$ are the true parameters, what is the distribution of $t$\", practically meaning that given $\\theta, \\phi$ we should simulate $X$ from $H_{\\theta,\\phi}$ many times and calculate $t(X|\\theta)$ to get the distribution. To be clear, only two functions are the keys in the package:\n",
    "\n",
    "  1. simulate $X$ from $H_{\\theta,\\phi}$, done by `likelihood.simulate(param)`\n",
    "  2. calculate $t(X|\\theta)$, done by `likelihood.chi2(param, param_profiled_guess)`\n",
    "\n",
    "Now I will show a simple example."
   ]
  },
  {
   "cell_type": "code",
   "execution_count": 1,
   "id": "27217b31-f7eb-486d-a977-607d1511dab6",
   "metadata": {},
   "outputs": [],
   "source": [
    "import numpy as np\n",
    "import matplotlib.pyplot as plt\n",
    "import inference as inf"
   ]
  },
  {
   "cell_type": "markdown",
   "id": "b2c6ad4b-09a4-4417-93ef-194494af29e2",
   "metadata": {},
   "source": [
    "First before anything, we set the `url_base` to be the prefix of the path of any used templates."
   ]
  },
  {
   "cell_type": "code",
   "execution_count": 2,
   "id": "982b9305-f3dd-4868-913b-15a6c97612d7",
   "metadata": {},
   "outputs": [],
   "source": [
    "inf.set_global_config({'url_base': '/home/zihaoxu/template_v14_SR0/'})"
   ]
  },
  {
   "cell_type": "markdown",
   "id": "6f5ac562-557d-4fa3-97c0-082a06a026e1",
   "metadata": {},
   "source": [
    "# Define a likelihood"
   ]
  },
  {
   "cell_type": "markdown",
   "id": "23227a7e-102b-427b-9ce7-ae61b9aaae93",
   "metadata": {},
   "source": [
    "In this example, we consider a 50-GeV WIMP search with ER and NR background, and the likelihood is defined by\n",
    "\n",
    "$$\\begin{aligned}\n",
    "L(\\mathrm{data}|\\lambda_{\\mathrm{ER}}, \\lambda_{\\mathrm{NR}}, \\lambda_{\\mathrm{WIMP}}) &= \\mathrm{Poiss}(N|\\lambda_{\\mathrm{tot}})\\times\\prod_{i=0}^N\\left(\\sum_{s\\in\\{\\mathrm{ER, NR, WIMP}\\}}\\frac{\\lambda_s}{\\lambda_{\\mathrm{tot}}}f_{s,i}\\right)\\times\\mathrm{Gauss}(\\lambda_{\\mathrm{NR}}|\\mu_{\\mathrm{NR}}, \\sigma_{\\mathrm{NR}})\n",
    "\\end{aligned}$$\n",
    "\n",
    "The definition is already done in `aptinf.demo.testLikelihood` and can be viewed by `likelihood.view()`"
   ]
  },
  {
   "cell_type": "code",
   "execution_count": 3,
   "id": "e630e8f7-d649-4d87-bf2c-e2a0dd3f06d9",
   "metadata": {},
   "outputs": [
    {
     "name": "stdout",
     "output_type": "stream",
     "text": [
      "Using Normal as an approximation of Binomial\n",
      "Using aptext package from https://github.com/XENONnT/applefiles\n"
     ]
    },
    {
     "ename": "NameError",
     "evalue": "name 'NT_AUX_INSTALLED' is not defined",
     "output_type": "error",
     "traceback": [
      "\u001b[0;31m---------------------------------------------------------------------------\u001b[0m",
      "\u001b[0;31mNameError\u001b[0m                                 Traceback (most recent call last)",
      "Cell \u001b[0;32mIn[3], line 1\u001b[0m\n\u001b[0;32m----> 1\u001b[0m likelihood \u001b[38;5;241m=\u001b[39m \u001b[43minf\u001b[49m\u001b[38;5;241;43m.\u001b[39;49m\u001b[43mdemo\u001b[49m\u001b[38;5;241;43m.\u001b[39;49m\u001b[43mtestLikelihood\u001b[49m\u001b[43m(\u001b[49m\u001b[43m)\u001b[49m\n\u001b[1;32m      2\u001b[0m likelihood\u001b[38;5;241m.\u001b[39mview()\n",
      "File \u001b[0;32m~/inference/inference/likelihoods/demo.py:23\u001b[0m, in \u001b[0;36mtestLikelihood.__init__\u001b[0;34m(self)\u001b[0m\n\u001b[1;32m     22\u001b[0m \u001b[38;5;28;01mdef\u001b[39;00m \u001b[38;5;21m__init__\u001b[39m(\u001b[38;5;28mself\u001b[39m):\n\u001b[0;32m---> 23\u001b[0m     \u001b[38;5;28;43msuper\u001b[39;49m\u001b[43m(\u001b[49m\u001b[43m)\u001b[49m\u001b[38;5;241;43m.\u001b[39;49m\u001b[38;5;21;43m__init__\u001b[39;49m\u001b[43m(\u001b[49m\u001b[43m)\u001b[49m\n\u001b[1;32m     25\u001b[0m     \u001b[38;5;66;03m# Here are some small function defintions\u001b[39;00m\n\u001b[1;32m     26\u001b[0m     nr_rate \u001b[38;5;241m=\u001b[39m \u001b[38;5;28;01mlambda\u001b[39;00m lg_nr_rate: \u001b[38;5;241m10\u001b[39m\u001b[38;5;241m*\u001b[39m\u001b[38;5;241m*\u001b[39mlg_nr_rate\n",
      "File \u001b[0;32m~/aptinf/aptinf/likelihood.py:61\u001b[0m, in \u001b[0;36mProfiledLikelihood.__init__\u001b[0;34m(self)\u001b[0m\n\u001b[1;32m     60\u001b[0m \u001b[38;5;28;01mdef\u001b[39;00m \u001b[38;5;21m__init__\u001b[39m(\u001b[38;5;28mself\u001b[39m):\n\u001b[0;32m---> 61\u001b[0m     \u001b[38;5;28;43msuper\u001b[39;49m\u001b[43m(\u001b[49m\u001b[43m)\u001b[49m\u001b[38;5;241;43m.\u001b[39;49m\u001b[38;5;21;43m__init__\u001b[39;49m\u001b[43m(\u001b[49m\u001b[43m)\u001b[49m\n",
      "File \u001b[0;32m~/aptinf/aptinf/likelihood.py:13\u001b[0m, in \u001b[0;36mLikelihood.__init__\u001b[0;34m(self)\u001b[0m\n\u001b[1;32m     11\u001b[0m \u001b[38;5;28;01mdef\u001b[39;00m \u001b[38;5;21m__init__\u001b[39m(\u001b[38;5;28mself\u001b[39m):\n\u001b[1;32m     12\u001b[0m     \u001b[38;5;28;01mfor\u001b[39;00m config \u001b[38;5;129;01min\u001b[39;00m \u001b[38;5;28mself\u001b[39m\u001b[38;5;241m.\u001b[39mtakes_config\u001b[38;5;241m.\u001b[39mvalues():\n\u001b[0;32m---> 13\u001b[0m         \u001b[43mconfig\u001b[49m\u001b[38;5;241;43m.\u001b[39;49m\u001b[43mbuild\u001b[49m\u001b[43m(\u001b[49m\u001b[43m)\u001b[49m\n\u001b[1;32m     14\u001b[0m     \u001b[38;5;28;01mfor\u001b[39;00m config \u001b[38;5;129;01min\u001b[39;00m \u001b[38;5;28mself\u001b[39m\u001b[38;5;241m.\u001b[39mtakes_config\u001b[38;5;241m.\u001b[39mvalues():\n\u001b[1;32m     15\u001b[0m         \u001b[38;5;28msetattr\u001b[39m(\u001b[38;5;28mself\u001b[39m, config\u001b[38;5;241m.\u001b[39mname, deepcopy(config))\n",
      "File \u001b[0;32m~/aptinf/aptinf/config.py:133\u001b[0m, in \u001b[0;36mTemplate.build\u001b[0;34m(self)\u001b[0m\n\u001b[1;32m    131\u001b[0m     \u001b[38;5;28mself\u001b[39m\u001b[38;5;241m.\u001b[39mfile_path \u001b[38;5;241m=\u001b[39m _cached_configs[\u001b[38;5;28mself\u001b[39m\u001b[38;5;241m.\u001b[39mname]\n\u001b[1;32m    132\u001b[0m \u001b[38;5;28;01melse\u001b[39;00m:\n\u001b[0;32m--> 133\u001b[0m     \u001b[38;5;28mself\u001b[39m\u001b[38;5;241m.\u001b[39mfile_path \u001b[38;5;241m=\u001b[39m \u001b[43mget_file_path\u001b[49m\u001b[43m(\u001b[49m\u001b[38;5;28;43mself\u001b[39;49m\u001b[38;5;241;43m.\u001b[39;49m\u001b[43mget_default\u001b[49m\u001b[43m(\u001b[49m\u001b[43m)\u001b[49m\u001b[43m)\u001b[49m\n\u001b[1;32m    134\u001b[0m     \u001b[38;5;66;03m# Update values to sharing dictionary\u001b[39;00m\n\u001b[1;32m    135\u001b[0m     _cached_configs[\u001b[38;5;28mself\u001b[39m\u001b[38;5;241m.\u001b[39mname] \u001b[38;5;241m=\u001b[39m \u001b[38;5;28mself\u001b[39m\u001b[38;5;241m.\u001b[39mfile_path\n",
      "File \u001b[0;32m~/aptinf/aptinf/utils.py:187\u001b[0m, in \u001b[0;36mget_file_path\u001b[0;34m(fname)\u001b[0m\n\u001b[1;32m    184\u001b[0m     \u001b[38;5;28;01mpass\u001b[39;00m\n\u001b[1;32m    186\u001b[0m \u001b[38;5;66;03m# 4. From local installed ntauxfiles\u001b[39;00m\n\u001b[0;32m--> 187\u001b[0m \u001b[38;5;28;01mif\u001b[39;00m \u001b[43mNT_AUX_INSTALLED\u001b[49m:\n\u001b[1;32m    188\u001b[0m     \u001b[38;5;66;03m# You might want to use this, for example if you are a developer\u001b[39;00m\n\u001b[1;32m    189\u001b[0m     \u001b[38;5;28;01mif\u001b[39;00m fname \u001b[38;5;129;01min\u001b[39;00m ntauxfiles\u001b[38;5;241m.\u001b[39mlist_private_files():\n\u001b[1;32m    190\u001b[0m         fpath \u001b[38;5;241m=\u001b[39m ntauxfiles\u001b[38;5;241m.\u001b[39mget_abspath(fname)\n",
      "\u001b[0;31mNameError\u001b[0m: name 'NT_AUX_INSTALLED' is not defined"
     ]
    }
   ],
   "source": [
    "likelihood = inf.demo.testLikelihood()\n",
    "likelihood.view()"
   ]
  },
  {
   "cell_type": "markdown",
   "id": "eb324506-c21e-4b27-875f-1b8fdfe4de5f",
   "metadata": {},
   "source": [
    "Every time we want to calculate the likelihood, we have to feed the following things. Here `'data'` is also in the `likelihood.param_needed` due to some technical problem but don't confuse yourself."
   ]
  },
  {
   "cell_type": "code",
   "execution_count": null,
   "id": "82562eba-b956-48f4-90f1-27697d4bf439",
   "metadata": {},
   "outputs": [],
   "source": [
    "likelihood.param_needed"
   ]
  },
  {
   "cell_type": "markdown",
   "id": "da73667a-4e76-4372-8dec-e30e72043dad",
   "metadata": {},
   "source": [
    "# Simulate data"
   ]
  },
  {
   "cell_type": "markdown",
   "id": "0607a820-6c09-41df-84ef-996b4d718cef",
   "metadata": {},
   "source": [
    "To simulate data, we need to input all parameters."
   ]
  },
  {
   "cell_type": "code",
   "execution_count": null,
   "id": "139a7b4f-4f6d-440c-9016-33b1c907fd12",
   "metadata": {},
   "outputs": [],
   "source": [
    "likelihood.set_data_from_toymc({'lg_er_rate': 2,\n",
    "                                'lg_nr_rate': np.log10(likelihood.nr.norm),\n",
    "                                'lg_sig_mul': -10})"
   ]
  },
  {
   "cell_type": "markdown",
   "id": "eea55864-a09b-43e9-ab23-ec0b650ce4fd",
   "metadata": {},
   "source": [
    "Then we calculate the max log likelihood. It's stored inside the class since it's slow to compute could be used many times. We suggest to be careful with the initial guess. If the likelihood is very flat near the initial guess, then the optimizer might NOT give the correct function value."
   ]
  },
  {
   "cell_type": "code",
   "execution_count": null,
   "id": "cd12378f-2084-442a-9e17-1981830c6d86",
   "metadata": {},
   "outputs": [],
   "source": [
    "likelihood.set_max_loglikelihood(param_guess={'lg_er_rate': 2,\n",
    "                                              'lg_nr_rate': np.log10(likelihood.nr.norm),\n",
    "                                              'lg_sig_mul': 0})"
   ]
  },
  {
   "cell_type": "markdown",
   "id": "dd77db49-bb68-44a1-97b7-5267b7c51536",
   "metadata": {},
   "source": [
    "# Calculate $t$"
   ]
  },
  {
   "cell_type": "markdown",
   "id": "b1b3de92-24a0-47d6-8514-a27f0dac568d",
   "metadata": {},
   "source": [
    "The profiled log likelihood ratio is called by `likelihood.chi2(param, param_profiled_guess)`."
   ]
  },
  {
   "cell_type": "code",
   "execution_count": null,
   "id": "13070be6-64de-441a-a0d1-1bd049b78b2f",
   "metadata": {},
   "outputs": [],
   "source": [
    "def t(lg_sig_mul):\n",
    "    return likelihood.chi2({'lg_sig_mul': lg_sig_mul},\n",
    "                           {'lg_er_rate': 2, 'lg_nr_rate': 0})"
   ]
  },
  {
   "cell_type": "code",
   "execution_count": null,
   "id": "cdc7f521-4a44-400b-8be5-9f4bc3fe8071",
   "metadata": {},
   "outputs": [],
   "source": [
    "x = np.linspace(-4, -2, 100)\n",
    "y = [t(xx) for xx in x]\n",
    "\n",
    "plt.plot(10**x, y)\n",
    "plt.xscale('log')\n",
    "plt.xlim(1e-4, 1e-2)\n",
    "plt.ylim(0, None)\n",
    "plt.xlabel('WIMP rate multiplier')\n",
    "plt.ylabel('Profiled log likelihood ratio')\n",
    "plt.show()"
   ]
  },
  {
   "cell_type": "code",
   "execution_count": null,
   "id": "d2c0033b-08e6-4187-983e-9bc498f29c00",
   "metadata": {},
   "outputs": [],
   "source": []
  }
 ],
 "metadata": {
  "kernelspec": {
   "display_name": "Python [conda env:XENONnT_development]",
   "language": "python",
   "name": "conda-env-XENONnT_development-py"
  },
  "language_info": {
   "codemirror_mode": {
    "name": "ipython",
    "version": 3
   },
   "file_extension": ".py",
   "mimetype": "text/x-python",
   "name": "python",
   "nbconvert_exporter": "python",
   "pygments_lexer": "ipython3",
   "version": "3.8.16"
  }
 },
 "nbformat": 4,
 "nbformat_minor": 5
}
